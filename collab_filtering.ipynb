{
 "cells": [
  {
   "cell_type": "code",
   "execution_count": 5,
   "metadata": {},
   "outputs": [],
   "source": [
    "import pandas as pd\n",
    "import seaborn as sns\n",
    "import matplotlib.pyplot as plt\n",
    "from surprise import Reader, Dataset, SVD\n",
    "from surprise import KNNBasic\n",
    "from surprise.model_selection import cross_validate\n",
    "from surprise.model_selection import train_test_split\n",
    "from surprise import accuracy"
   ]
  },
  {
   "cell_type": "code",
   "execution_count": 6,
   "metadata": {},
   "outputs": [
    {
     "data": {
      "text/html": [
       "<div>\n",
       "<style scoped>\n",
       "    .dataframe tbody tr th:only-of-type {\n",
       "        vertical-align: middle;\n",
       "    }\n",
       "\n",
       "    .dataframe tbody tr th {\n",
       "        vertical-align: top;\n",
       "    }\n",
       "\n",
       "    .dataframe thead th {\n",
       "        text-align: right;\n",
       "    }\n",
       "</style>\n",
       "<table border=\"1\" class=\"dataframe\">\n",
       "  <thead>\n",
       "    <tr style=\"text-align: right;\">\n",
       "      <th></th>\n",
       "      <th>user_id</th>\n",
       "      <th>\"artistname\"</th>\n",
       "      <th>\"trackname\"</th>\n",
       "      <th>\"playlistname\"</th>\n",
       "    </tr>\n",
       "  </thead>\n",
       "  <tbody>\n",
       "    <tr>\n",
       "      <th>0</th>\n",
       "      <td>9cc0cfd4d7d7885102480dd99e7a90d6</td>\n",
       "      <td>Elvis Costello</td>\n",
       "      <td>(The Angels Wanna Wear My) Red Shoes</td>\n",
       "      <td>HARD ROCK 2010</td>\n",
       "    </tr>\n",
       "    <tr>\n",
       "      <th>1</th>\n",
       "      <td>9cc0cfd4d7d7885102480dd99e7a90d6</td>\n",
       "      <td>Elvis Costello &amp; The Attractions</td>\n",
       "      <td>(What's So Funny 'Bout) Peace, Love And Unders...</td>\n",
       "      <td>HARD ROCK 2010</td>\n",
       "    </tr>\n",
       "    <tr>\n",
       "      <th>2</th>\n",
       "      <td>9cc0cfd4d7d7885102480dd99e7a90d6</td>\n",
       "      <td>Tiffany Page</td>\n",
       "      <td>7 Years Too Late</td>\n",
       "      <td>HARD ROCK 2010</td>\n",
       "    </tr>\n",
       "    <tr>\n",
       "      <th>3</th>\n",
       "      <td>9cc0cfd4d7d7885102480dd99e7a90d6</td>\n",
       "      <td>Elvis Costello &amp; The Attractions</td>\n",
       "      <td>Accidents Will Happen</td>\n",
       "      <td>HARD ROCK 2010</td>\n",
       "    </tr>\n",
       "    <tr>\n",
       "      <th>4</th>\n",
       "      <td>9cc0cfd4d7d7885102480dd99e7a90d6</td>\n",
       "      <td>Elvis Costello</td>\n",
       "      <td>Alison</td>\n",
       "      <td>HARD ROCK 2010</td>\n",
       "    </tr>\n",
       "  </tbody>\n",
       "</table>\n",
       "</div>"
      ],
      "text/plain": [
       "                            user_id                      \"artistname\"  \\\n",
       "0  9cc0cfd4d7d7885102480dd99e7a90d6                    Elvis Costello   \n",
       "1  9cc0cfd4d7d7885102480dd99e7a90d6  Elvis Costello & The Attractions   \n",
       "2  9cc0cfd4d7d7885102480dd99e7a90d6                      Tiffany Page   \n",
       "3  9cc0cfd4d7d7885102480dd99e7a90d6  Elvis Costello & The Attractions   \n",
       "4  9cc0cfd4d7d7885102480dd99e7a90d6                    Elvis Costello   \n",
       "\n",
       "                                         \"trackname\"  \"playlistname\"  \n",
       "0               (The Angels Wanna Wear My) Red Shoes  HARD ROCK 2010  \n",
       "1  (What's So Funny 'Bout) Peace, Love And Unders...  HARD ROCK 2010  \n",
       "2                                   7 Years Too Late  HARD ROCK 2010  \n",
       "3                              Accidents Will Happen  HARD ROCK 2010  \n",
       "4                                             Alison  HARD ROCK 2010  "
      ]
     },
     "execution_count": 6,
     "metadata": {},
     "output_type": "execute_result"
    }
   ],
   "source": [
    "#load the dataset\n",
    "df = pd.read_csv(\"/Users/susmitapoudel/downloads/spotify_dataset.csv\", on_bad_lines='skip')\n",
    "df.head()"
   ]
  },
  {
   "cell_type": "code",
   "execution_count": 8,
   "metadata": {},
   "outputs": [
    {
     "name": "stdout",
     "output_type": "stream",
     "text": [
      "Total Rows:  12891680\n",
      "Total Columns:  4\n",
      "Index(['user_id', ' \"artistname\"', ' \"trackname\"', ' \"playlistname\"'], dtype='object')\n"
     ]
    }
   ],
   "source": [
    "#get information about row and col\n",
    "\n",
    "row_count = df.shape[0]\n",
    "col_count = df.shape[1]\n",
    "print(\"Total Rows: \" , row_count)\n",
    "print(\"Total Columns: \" , col_count)\n",
    "print(df.columns)"
   ]
  },
  {
   "cell_type": "code",
   "execution_count": 9,
   "metadata": {},
   "outputs": [
    {
     "name": "stdout",
     "output_type": "stream",
     "text": [
      "Updated rows 12856831\n",
      "user_id            0\n",
      " \"artistname\"      0\n",
      " \"trackname\"       0\n",
      " \"playlistname\"    0\n",
      "dtype: int64\n"
     ]
    }
   ],
   "source": [
    "# dropping rows with null values\n",
    "music_df = df.dropna()\n",
    "print(\"Updated rows\", music_df.shape[0])\n",
    "print(music_df.isnull().sum())"
   ]
  },
  {
   "cell_type": "code",
   "execution_count": 10,
   "metadata": {},
   "outputs": [
    {
     "name": "stdout",
     "output_type": "stream",
     "text": [
      "Before ['user_id', ' \"artistname\"', ' \"trackname\"', ' \"playlistname\"']\n",
      "After ['user_id', 'artist_name', 'track_name', 'playlistname']\n"
     ]
    },
    {
     "name": "stderr",
     "output_type": "stream",
     "text": [
      "/var/folders/dn/rdf6dkk51ps__wbzt2xk4d100000gn/T/ipykernel_40874/47056292.py:4: SettingWithCopyWarning: \n",
      "A value is trying to be set on a copy of a slice from a DataFrame\n",
      "\n",
      "See the caveats in the documentation: https://pandas.pydata.org/pandas-docs/stable/user_guide/indexing.html#returning-a-view-versus-a-copy\n",
      "  music_df.rename(columns={'artistname': 'artist_name'}, inplace=True)\n",
      "/var/folders/dn/rdf6dkk51ps__wbzt2xk4d100000gn/T/ipykernel_40874/47056292.py:5: SettingWithCopyWarning: \n",
      "A value is trying to be set on a copy of a slice from a DataFrame\n",
      "\n",
      "See the caveats in the documentation: https://pandas.pydata.org/pandas-docs/stable/user_guide/indexing.html#returning-a-view-versus-a-copy\n",
      "  music_df.rename(columns={'trackname': 'track_name'}, inplace=True)\n"
     ]
    }
   ],
   "source": [
    "#change column names to more meaningful names\n",
    "print(\"Before\", music_df.columns.tolist())\n",
    "music_df.columns = music_df.columns.str.strip().str.replace('\"', '').str.replace(\"'\", '')\n",
    "music_df.rename(columns={'artistname': 'artist_name'}, inplace=True)\n",
    "music_df.rename(columns={'trackname': 'track_name'}, inplace=True)\n",
    "print(\"After\", music_df.columns.tolist())"
   ]
  },
  {
   "cell_type": "code",
   "execution_count": 11,
   "metadata": {},
   "outputs": [
    {
     "name": "stdout",
     "output_type": "stream",
     "text": [
      "Unique users: 15914\n",
      "Unique playlist: 157320\n",
      "Unique artist count 289602\n",
      "Unique songs count 2004520\n"
     ]
    }
   ],
   "source": [
    "print(\"Unique users:\", music_df['user_id'].nunique())\n",
    "print(\"Unique playlist:\", music_df['playlistname'].nunique())\n",
    "print(\"Unique artist count\",music_df['artist_name'].nunique())\n",
    "print(\"Unique songs count\",music_df['track_name'].nunique())"
   ]
  },
  {
   "cell_type": "code",
   "execution_count": 12,
   "metadata": {},
   "outputs": [
    {
     "name": "stderr",
     "output_type": "stream",
     "text": [
      "/var/folders/dn/rdf6dkk51ps__wbzt2xk4d100000gn/T/ipykernel_40874/4039868250.py:4: SettingWithCopyWarning: \n",
      "A value is trying to be set on a copy of a slice from a DataFrame.\n",
      "Try using .loc[row_indexer,col_indexer] = value instead\n",
      "\n",
      "See the caveats in the documentation: https://pandas.pydata.org/pandas-docs/stable/user_guide/indexing.html#returning-a-view-versus-a-copy\n",
      "  df[col] = df[col].str.strip().str.lower()  # Remove leading/trailing spaces\n",
      "/var/folders/dn/rdf6dkk51ps__wbzt2xk4d100000gn/T/ipykernel_40874/4039868250.py:5: SettingWithCopyWarning: \n",
      "A value is trying to be set on a copy of a slice from a DataFrame.\n",
      "Try using .loc[row_indexer,col_indexer] = value instead\n",
      "\n",
      "See the caveats in the documentation: https://pandas.pydata.org/pandas-docs/stable/user_guide/indexing.html#returning-a-view-versus-a-copy\n",
      "  df[col] = df[col].str.replace('[^A-Za-z0-9 ]+', '', regex=True)  # Remove unwanted characters\n"
     ]
    },
    {
     "name": "stdout",
     "output_type": "stream",
     "text": [
      "                                   user_id                      artist_name  \\\n",
      "0         9cc0cfd4d7d7885102480dd99e7a90d6                   elvis costello   \n",
      "1         9cc0cfd4d7d7885102480dd99e7a90d6  elvis costello  the attractions   \n",
      "2         9cc0cfd4d7d7885102480dd99e7a90d6                     tiffany page   \n",
      "3         9cc0cfd4d7d7885102480dd99e7a90d6  elvis costello  the attractions   \n",
      "4         9cc0cfd4d7d7885102480dd99e7a90d6                   elvis costello   \n",
      "...                                    ...                              ...   \n",
      "12891675  2302bf9c64dc63d88a750215ed187f2c                        mtley cre   \n",
      "12891676  2302bf9c64dc63d88a750215ed187f2c                      john lennon   \n",
      "12891677  2302bf9c64dc63d88a750215ed187f2c                        tom petty   \n",
      "12891678  2302bf9c64dc63d88a750215ed187f2c                        tom petty   \n",
      "12891679  2302bf9c64dc63d88a750215ed187f2c                         skid row   \n",
      "\n",
      "                                                track_name    playlistname  \n",
      "0                       the angels wanna wear my red shoes  hard rock 2010  \n",
      "1         whats so funny bout peace love and understanding  hard rock 2010  \n",
      "2                                         7 years too late  hard rock 2010  \n",
      "3                                    accidents will happen  hard rock 2010  \n",
      "4                                                   alison  hard rock 2010  \n",
      "...                                                    ...             ...  \n",
      "12891675                                         wild side          iphone  \n",
      "12891676                                             woman          iphone  \n",
      "12891677                        you dont know how it feels          iphone  \n",
      "12891678                                      you wreck me          iphone  \n",
      "12891679                                   youth gone wild          iphone  \n",
      "\n",
      "[12856831 rows x 4 columns]\n"
     ]
    }
   ],
   "source": [
    "#cleaning the columns to make it more uniform\n",
    "def clean_columns(df):\n",
    "    for col in df.select_dtypes(include=['object']):  # Select string columns\n",
    "        df[col] = df[col].str.strip().str.lower()  # Remove leading/trailing spaces\n",
    "        df[col] = df[col].str.replace('[^A-Za-z0-9 ]+', '', regex=True)  # Remove unwanted characters\n",
    "    return df\n",
    "\n",
    "df_cleaned = clean_columns(music_df)\n",
    "df_cleaned.dropna()\n",
    "print(df_cleaned)"
   ]
  },
  {
   "cell_type": "code",
   "execution_count": 14,
   "metadata": {},
   "outputs": [
    {
     "name": "stderr",
     "output_type": "stream",
     "text": [
      "/var/folders/dn/rdf6dkk51ps__wbzt2xk4d100000gn/T/ipykernel_40874/3423458122.py:2: SettingWithCopyWarning: \n",
      "A value is trying to be set on a copy of a slice from a DataFrame.\n",
      "Try using .loc[row_indexer,col_indexer] = value instead\n",
      "\n",
      "See the caveats in the documentation: https://pandas.pydata.org/pandas-docs/stable/user_guide/indexing.html#returning-a-view-versus-a-copy\n",
      "  df_cleaned['unique_songs'] = df_cleaned['artist_name'].str.replace(\" \", '') + \"-\" + df_cleaned['track_name'].str.replace(\" \", '')\n"
     ]
    },
    {
     "data": {
      "text/html": [
       "<div>\n",
       "<style scoped>\n",
       "    .dataframe tbody tr th:only-of-type {\n",
       "        vertical-align: middle;\n",
       "    }\n",
       "\n",
       "    .dataframe tbody tr th {\n",
       "        vertical-align: top;\n",
       "    }\n",
       "\n",
       "    .dataframe thead th {\n",
       "        text-align: right;\n",
       "    }\n",
       "</style>\n",
       "<table border=\"1\" class=\"dataframe\">\n",
       "  <thead>\n",
       "    <tr style=\"text-align: right;\">\n",
       "      <th></th>\n",
       "      <th>user_id</th>\n",
       "      <th>artist_name</th>\n",
       "      <th>track_name</th>\n",
       "      <th>playlistname</th>\n",
       "      <th>unique_songs</th>\n",
       "    </tr>\n",
       "  </thead>\n",
       "  <tbody>\n",
       "    <tr>\n",
       "      <th>0</th>\n",
       "      <td>9cc0cfd4d7d7885102480dd99e7a90d6</td>\n",
       "      <td>elvis costello</td>\n",
       "      <td>the angels wanna wear my red shoes</td>\n",
       "      <td>hard rock 2010</td>\n",
       "      <td>elviscostello-theangelswannawearmyredshoes</td>\n",
       "    </tr>\n",
       "    <tr>\n",
       "      <th>1</th>\n",
       "      <td>9cc0cfd4d7d7885102480dd99e7a90d6</td>\n",
       "      <td>elvis costello  the attractions</td>\n",
       "      <td>whats so funny bout peace love and understanding</td>\n",
       "      <td>hard rock 2010</td>\n",
       "      <td>elviscostellotheattractions-whatssofunnyboutpe...</td>\n",
       "    </tr>\n",
       "    <tr>\n",
       "      <th>2</th>\n",
       "      <td>9cc0cfd4d7d7885102480dd99e7a90d6</td>\n",
       "      <td>tiffany page</td>\n",
       "      <td>7 years too late</td>\n",
       "      <td>hard rock 2010</td>\n",
       "      <td>tiffanypage-7yearstoolate</td>\n",
       "    </tr>\n",
       "    <tr>\n",
       "      <th>3</th>\n",
       "      <td>9cc0cfd4d7d7885102480dd99e7a90d6</td>\n",
       "      <td>elvis costello  the attractions</td>\n",
       "      <td>accidents will happen</td>\n",
       "      <td>hard rock 2010</td>\n",
       "      <td>elviscostellotheattractions-accidentswillhappen</td>\n",
       "    </tr>\n",
       "    <tr>\n",
       "      <th>4</th>\n",
       "      <td>9cc0cfd4d7d7885102480dd99e7a90d6</td>\n",
       "      <td>elvis costello</td>\n",
       "      <td>alison</td>\n",
       "      <td>hard rock 2010</td>\n",
       "      <td>elviscostello-alison</td>\n",
       "    </tr>\n",
       "  </tbody>\n",
       "</table>\n",
       "</div>"
      ],
      "text/plain": [
       "                            user_id                      artist_name  \\\n",
       "0  9cc0cfd4d7d7885102480dd99e7a90d6                   elvis costello   \n",
       "1  9cc0cfd4d7d7885102480dd99e7a90d6  elvis costello  the attractions   \n",
       "2  9cc0cfd4d7d7885102480dd99e7a90d6                     tiffany page   \n",
       "3  9cc0cfd4d7d7885102480dd99e7a90d6  elvis costello  the attractions   \n",
       "4  9cc0cfd4d7d7885102480dd99e7a90d6                   elvis costello   \n",
       "\n",
       "                                         track_name    playlistname  \\\n",
       "0                the angels wanna wear my red shoes  hard rock 2010   \n",
       "1  whats so funny bout peace love and understanding  hard rock 2010   \n",
       "2                                  7 years too late  hard rock 2010   \n",
       "3                             accidents will happen  hard rock 2010   \n",
       "4                                            alison  hard rock 2010   \n",
       "\n",
       "                                        unique_songs  \n",
       "0         elviscostello-theangelswannawearmyredshoes  \n",
       "1  elviscostellotheattractions-whatssofunnyboutpe...  \n",
       "2                          tiffanypage-7yearstoolate  \n",
       "3    elviscostellotheattractions-accidentswillhappen  \n",
       "4                               elviscostello-alison  "
      ]
     },
     "execution_count": 14,
     "metadata": {},
     "output_type": "execute_result"
    }
   ],
   "source": [
    "#adding a column \"unique songs\" that combines \"artist_name\" and \"track_name\" to ensure uniquessness\n",
    "df_cleaned['unique_songs'] = df_cleaned['artist_name'].str.replace(\" \", '') + \"-\" + df_cleaned['track_name'].str.replace(\" \", '')\n",
    "df_cleaned = df_cleaned[df_cleaned['unique_songs'] != '-']\n",
    "df_cleaned.head()"
   ]
  },
  {
   "cell_type": "code",
   "execution_count": 15,
   "metadata": {},
   "outputs": [
    {
     "data": {
      "image/png": "[encoded data removed]",
      "text/plain": [
       "<Figure size 2000x2000 with 1 Axes>"
      ]
     },
     "metadata": {},
     "output_type": "display_data"
    }
   ],
   "source": [
    "# Count the number of unique songs per user\n",
    "song_counts = df_cleaned.groupby('user_id')['unique_songs'].nunique().reset_index()\n",
    "song_counts.columns = ['user_id', 'unique_song_count']\n",
    "\n",
    "# Plot the distribution using seaborn\n",
    "plt.figure(figsize=(20, 20))\n",
    "sns.histplot(song_counts['unique_song_count'], bins=10, kde=False)\n",
    "plt.xlim(0,3000)\n",
    "plt.ylim(0,12000)\n",
    "plt.title('Distribution of Unique Songs per User')\n",
    "plt.xlabel('Number of Unique Songs')\n",
    "plt.ylabel('Frequency of Users')\n",
    "plt.show()"
   ]
  },
  {
   "cell_type": "code",
   "execution_count": 43,
   "metadata": {},
   "outputs": [
    {
     "name": "stdout",
     "output_type": "stream",
     "text": [
      "User 15913\n",
      "User with 40 or more songs 13339\n",
      "Unique song count 11054\n",
      "(2850680, 5)\n",
      "Unique users: 13147\n",
      "Unique playlist: 73145\n",
      "Unique artist count 11177\n",
      "Unique song-artist count 11053\n"
     ]
    }
   ],
   "source": [
    "\n",
    "user_song_count = df_cleaned.groupby('user_id')['unique_songs'].nunique()\n",
    "print(\"User\",len(user_song_count))\n",
    "users_with_40_or_more_songs = user_song_count[user_song_count >= 40].index\n",
    "print(\"User with 40 or more songs\", len(users_with_40_or_more_songs))\n",
    "#print(df_cleaned.columns)\n",
    "song_user_count = music_df.groupby('unique_songs')['user_id'].nunique()\n",
    "\n",
    "filtered_df = df_cleaned[df_cleaned['user_id'].isin(users_with_40_or_more_songs)]\n",
    "# Filter songs that have at least 100 unique users\n",
    "songs_with_100_or_more_users = song_user_count[song_user_count >= 100].index\n",
    "print(\"Unique song count\",len(songs_with_100_or_more_users))\n",
    "filtered_df = filtered_df[filtered_df['unique_songs'].isin(songs_with_100_or_more_users)]\n",
    "print(filtered_df.shape)\n",
    "\n",
    "\n",
    "print(\"Unique users:\", filtered_df['user_id'].nunique())\n",
    "print(\"Unique playlist:\", filtered_df['playlistname'].nunique())\n",
    "print(\"Unique artist count\",filtered_df['track_name'].nunique())\n",
    "print(\"Unique song-artist count\",filtered_df['unique_songs'].nunique())"
   ]
  },
  {
   "cell_type": "code",
   "execution_count": 44,
   "metadata": {},
   "outputs": [
    {
     "data": {
      "image/png": "[encoded data removed]",
      "text/plain": [
       "<Figure size 2000x2000 with 1 Axes>"
      ]
     },
     "metadata": {},
     "output_type": "display_data"
    }
   ],
   "source": [
    "# Count the number of unique songs per user\n",
    "song_counts = filtered_df.groupby('user_id')['unique_songs'].nunique().reset_index()\n",
    "song_counts.columns = ['user_id', 'unique_song_count']\n",
    "\n",
    "# Plot the distribution using seaborn\n",
    "plt.figure(figsize=(20, 20))\n",
    "sns.histplot(song_counts['unique_song_count'], bins=10, kde=False)\n",
    "plt.xlim(0,3000)\n",
    "plt.ylim(0,12000)\n",
    "plt.title('Distribution of Unique Songs per User')\n",
    "plt.xlabel('Number of Unique Songs')\n",
    "plt.ylabel('Frequency of Users')\n",
    "plt.show()"
   ]
  },
  {
   "cell_type": "code",
   "execution_count": 45,
   "metadata": {},
   "outputs": [
    {
     "name": "stdout",
     "output_type": "stream",
     "text": [
      "(13147, 11053)\n"
     ]
    }
   ],
   "source": [
    "ratings = pd.DataFrame(filtered_df)\n",
    "interaction_matrix = ratings.pivot_table(index='user_id', columns='unique_songs', aggfunc='size', fill_value=0)\n",
    "\n",
    "# Convert to binary (1 if count > 0, else 0)\n",
    "#interaction_matrix = (interaction_matrix > 0).astype(int)\n",
    "print(interaction_matrix.shape)"
   ]
  },
  {
   "cell_type": "code",
   "execution_count": 46,
   "metadata": {},
   "outputs": [
    {
     "name": "stdout",
     "output_type": "stream",
     "text": [
      "                                    user_id  \\\n",
      "273        00055176fea33f6e027cd3302289378b   \n",
      "626        00055176fea33f6e027cd3302289378b   \n",
      "825        00055176fea33f6e027cd3302289378b   \n",
      "1070       00055176fea33f6e027cd3302289378b   \n",
      "1080       00055176fea33f6e027cd3302289378b   \n",
      "...                                     ...   \n",
      "145313257  fff77dadf8528083c920b9c018847e8b   \n",
      "145313355  fff77dadf8528083c920b9c018847e8b   \n",
      "145313485  fff77dadf8528083c920b9c018847e8b   \n",
      "145313519  fff77dadf8528083c920b9c018847e8b   \n",
      "145313681  fff77dadf8528083c920b9c018847e8b   \n",
      "\n",
      "                                 unique_songs  playlist  \n",
      "273             alltimelow-dearmariacountmein         1  \n",
      "626        avrillavigne-herestonevergrowingup         1  \n",
      "825                             beckyg-shower         1  \n",
      "1070                   blink182-aftermidnight         1  \n",
      "1080                       blink182-firstdate         1  \n",
      "...                                       ...       ...  \n",
      "145313257       twodoorcinemaclub-whatyouknow         1  \n",
      "145313355                usher-youmakemewanna         1  \n",
      "145313485                 walkthemoon-annasun         1  \n",
      "145313519          wearescientists-afterhours         1  \n",
      "145313681         yeahyeahyeahs-headswillroll         1  \n",
      "\n",
      "[2019485 rows x 3 columns]\n"
     ]
    }
   ],
   "source": [
    "#include unique_song-user combination with interaction is 1\n",
    "df_long = interaction_matrix.stack().reset_index(name='playlist')\n",
    "df_long = df_long[df_long['playlist'] == 1]\n",
    "print(df_long)"
   ]
  },
  {
   "cell_type": "code",
   "execution_count": 48,
   "metadata": {},
   "outputs": [
    {
     "name": "stdout",
     "output_type": "stream",
     "text": [
      "                                    user_id  \\\n",
      "43077293   4aebcca431d08ae1b50544d96d90ba1a   \n",
      "53605775   5cda2fef9394d95de7444ebec42b5341   \n",
      "79369040   8b07786b616698aa0112ffd92b3ae35a   \n",
      "133756611  ebeca1badbd7f968878f4aa94b3d274e   \n",
      "15204792   1aaa6db809b4d05bb7094778b76855dd   \n",
      "...                                     ...   \n",
      "18712072   20350023c94899ce25cd1a86ea385853   \n",
      "78538548   898b985bbd7086df4b2c7d1f0e59f7ee   \n",
      "53803230   5d2cd4fb46fe9dc4a1c4a2dff0fcac1c   \n",
      "143745279  fcee1aa12d81340ae843cd2fa10378e0   \n",
      "20587332   237c0b71c3e7f8d47b58a094c90ab49d   \n",
      "\n",
      "                                    unique_songs  playlist  \n",
      "43077293               glenhansard-fallingslowly         0  \n",
      "53605775              theojays-fortheloveofmoney         0  \n",
      "79369040                         shakira-sitevas         0  \n",
      "133756611                 jackwhite-justonedrink         0  \n",
      "15204792                  nickiminaj-moment4life         0  \n",
      "...                                          ...       ...  \n",
      "18712072   tompettyandtheheartbreakers-breakdown         0  \n",
      "78538548                    nirvana-allapologies         0  \n",
      "53803230           ryanadams-lacienegajustsmiled         0  \n",
      "143745279         bingoplayers-rattleoriginalmix         0  \n",
      "20587332      mumfordsons-holdontowhatyoubelieve         0  \n",
      "\n",
      "[43594137 rows x 3 columns]\n"
     ]
    }
   ],
   "source": [
    "df_sampled = df_long.sample(frac=0.3, random_state=42)\n",
    "\n",
    "# Check the size of the new sampled dataset\n",
    "print(df_sampled)\n",
    "#rmse = 0.5"
   ]
  },
  {
   "cell_type": "code",
   "execution_count": 47,
   "metadata": {},
   "outputs": [],
   "source": [
    "# only positive interaction \n",
    "reader = Reader(rating_scale=(0, 1))\n",
    "dataset = Dataset.load_from_df(df_long[['user_id', 'unique_songs', 'playlist']], reader)"
   ]
  },
  {
   "cell_type": "code",
   "execution_count": 48,
   "metadata": {},
   "outputs": [
    {
     "name": "stdout",
     "output_type": "stream",
     "text": [
      "Evaluating RMSE, MAE of algorithm SVD on 5 split(s).\n",
      "\n",
      "                  Fold 1  Fold 2  Fold 3  Fold 4  Fold 5  Mean    Std     \n",
      "RMSE (testset)    0.0279  0.0279  0.0277  0.0278  0.0277  0.0278  0.0001  \n",
      "MAE (testset)     0.0138  0.0138  0.0138  0.0138  0.0138  0.0138  0.0000  \n",
      "Fit time          12.54   12.68   13.06   12.90   12.97   12.83   0.19    \n",
      "Test time         1.90    1.88    1.40    1.35    1.34    1.58    0.26    \n"
     ]
    },
    {
     "data": {
      "text/plain": [
       "{'test_rmse': array([0.02786718, 0.02789457, 0.02774988, 0.02775885, 0.02771653]),\n",
       " 'test_mae': array([0.01383122, 0.01382574, 0.01375852, 0.01379292, 0.01376093]),\n",
       " 'fit_time': (12.542972087860107,\n",
       "  12.682839155197144,\n",
       "  13.061156272888184,\n",
       "  12.903613328933716,\n",
       "  12.968540906906128),\n",
       " 'test_time': (1.8972079753875732,\n",
       "  1.8789870738983154,\n",
       "  1.4031507968902588,\n",
       "  1.3544549942016602,\n",
       "  1.3447489738464355)}"
      ]
     },
     "execution_count": 48,
     "metadata": {},
     "output_type": "execute_result"
    }
   ],
   "source": [
    "\n",
    "algo = SVD()\n",
    "cross_validate(algo, dataset, measures=[\"RMSE\", \"MAE\"], cv=5, verbose=True)"
   ]
  },
  {
   "cell_type": "code",
   "execution_count": 49,
   "metadata": {},
   "outputs": [],
   "source": [
    "trainset, testset = train_test_split(dataset, test_size=0.25)"
   ]
  },
  {
   "cell_type": "code",
   "execution_count": 50,
   "metadata": {},
   "outputs": [
    {
     "data": {
      "text/plain": [
       "<surprise.prediction_algorithms.matrix_factorization.SVD at 0x6947a8e90>"
      ]
     },
     "execution_count": 50,
     "metadata": {},
     "output_type": "execute_result"
    }
   ],
   "source": [
    "model = SVD()  # Use the Singular Value Decomposition algorithm\n",
    "model.fit(trainset)"
   ]
  },
  {
   "cell_type": "code",
   "execution_count": 51,
   "metadata": {},
   "outputs": [],
   "source": [
    "predictions = model.test(testset)"
   ]
  },
  {
   "cell_type": "code",
   "execution_count": 52,
   "metadata": {},
   "outputs": [
    {
     "name": "stdout",
     "output_type": "stream",
     "text": [
      "RMSE: 0.0291\n",
      "RMSE: 0.029081184893853897\n"
     ]
    }
   ],
   "source": [
    "rmse = accuracy.rmse(predictions)\n",
    "print(f'RMSE: {rmse}')"
   ]
  },
  {
   "cell_type": "code",
   "execution_count": 53,
   "metadata": {},
   "outputs": [],
   "source": [
    "def predict_user_interactions(user_id):\n",
    "    \"\"\"\n",
    "    Given a user_id, predict the interaction scores for all songs for that user.\n",
    "    \n",
    "    :param user_id: ID of the user (integer)\n",
    "    :return: A list of song ids and their predicted interaction scores for the user\n",
    "    \"\"\"\n",
    "    user_playlist = filtered_df[filtered_df['user_id'] == user_id]['unique_songs'].unique()\n",
    "    # Get a list of all unique songs \n",
    "    unique_song = filtered_df['unique_songs'].unique()\n",
    "    songs_to_predict = [song for song in unique_song if song not in user_playlist]\n",
    "    # Predict interaction scores for each song for the user\n",
    "    predictions = []\n",
    "    for song in songs_to_predict:\n",
    "        prediction = model.predict(user_id, song)\n",
    "        predictions.append((song, prediction.est))\n",
    "    \n",
    "    # Sort the songs by predicted interaction score (highest first)\n",
    "    predictions.sort(key=lambda x: x[1], reverse=True)\n",
    "    \n",
    "    return predictions[:5]"
   ]
  },
  {
   "cell_type": "code",
   "execution_count": 55,
   "metadata": {},
   "outputs": [
    {
     "name": "stdout",
     "output_type": "stream",
     "text": [
      "[('elviscostello-alison', 1), ('crowdedhouse-fallatyourfeet', 1), ('joshuaradin-idratherbewithyouradioedit', 1), ('paulmccartney-liveandletdie', 1), ('crowdedhouse-weatherwithyou', 1)]\n"
     ]
    }
   ],
   "source": [
    "predicted_songs = predict_user_interactions('00055176fea33f6e027cd3302289378b')\n",
    "print(predicted_songs)\n"
   ]
  },
  {
   "cell_type": "code",
   "execution_count": 56,
   "metadata": {},
   "outputs": [
    {
     "data": {
      "text/plain": [
       "[('elviscostello-alison', 1),\n",
       " ('crowdedhouse-fallatyourfeet', 1),\n",
       " ('paulmccartney-liveandletdie', 1),\n",
       " ('joshuaradin-onlyyou', 1),\n",
       " ('crowdedhouse-weatherwithyou', 1)]"
      ]
     },
     "execution_count": 56,
     "metadata": {},
     "output_type": "execute_result"
    }
   ],
   "source": [
    "predict_user_interactions('fff77dadf8528083c920b9c018847e8b')"
   ]
  }
 ],
 "metadata": {
  "kernelspec": {
   "display_name": "Python 3",
   "language": "python",
   "name": "python3"
  },
  "language_info": {
   "codemirror_mode": {
    "name": "ipython",
    "version": 3
   },
   "file_extension": ".py",
   "mimetype": "text/x-python",
   "name": "python",
   "nbconvert_exporter": "python",
   "pygments_lexer": "ipython3",
   "version": "3.12.4"
  }
 },
 "nbformat": 4,
 "nbformat_minor": 2
}
